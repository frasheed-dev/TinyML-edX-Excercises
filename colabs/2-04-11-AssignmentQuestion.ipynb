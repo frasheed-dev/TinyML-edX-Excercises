{
  "cells": [
    {
      "cell_type": "markdown",
      "metadata": {
        "id": "view-in-github",
        "colab_type": "text"
      },
      "source": [
        "<a href=\"https://colab.research.google.com/github/frasheed-dev/edx_TinyML_specialization/blob/master/colabs/2-04-11-AssignmentQuestion.ipynb\" target=\"_parent\"><img src=\"https://colab.research.google.com/assets/colab-badge.svg\" alt=\"Open In Colab\"/></a>"
      ]
    },
    {
      "cell_type": "markdown",
      "source": [
        "**Note: Please note that this assignment is part of the course and I am doing my solution here to have a copy of my work in my personal repository. In no way I am trying to share the solution. We are here to learn from eachother not to cheat. Please close this notebook if you haven't solved your assignment yet.**"
      ],
      "metadata": {
        "id": "ci1IRgHEvYPl"
      }
    },
    {
      "cell_type": "markdown",
      "metadata": {
        "id": "ktqTCGHJw-ws"
      },
      "source": [
        "# Bean Disease Classifier\n",
        "For this assignment you'll take what you've learned so far and build a classifier for bean disease. You'll be provided with training and validation data based on 224x224 pixel color images taken of bean plants in Uganda. These images show healthy bean leaves as well as 2 types of common disease: bean rust and angular leaf spots. Your job will be to build a neural network that can tell the difference between the healthy and diseased leaves.\n",
        "\n",
        "We start by setting up the problem for you."
      ]
    },
    {
      "cell_type": "code",
      "execution_count": 1,
      "metadata": {
        "id": "wmnkg6vGbX1t"
      },
      "outputs": [],
      "source": [
        "# Do not change this code\n",
        "try:\n",
        "  # %tensorflow_version only exists in Colab.\n",
        "  %tensorflow_version 2.x\n",
        "except Exception:\n",
        "  pass"
      ]
    },
    {
      "cell_type": "code",
      "execution_count": 2,
      "metadata": {
        "id": "njf4YhwFb6hW",
        "outputId": "2490789f-0727-4624-dda8-a3e47235c620",
        "colab": {
          "base_uri": "https://localhost:8080/"
        }
      },
      "outputs": [
        {
          "output_type": "stream",
          "name": "stdout",
          "text": [
            "--2021-12-14 20:23:07--  https://storage.googleapis.com/ibeans/train.zip\n",
            "Resolving storage.googleapis.com (storage.googleapis.com)... 108.177.125.128, 142.250.157.128, 142.251.8.128, ...\n",
            "Connecting to storage.googleapis.com (storage.googleapis.com)|108.177.125.128|:443... connected.\n",
            "HTTP request sent, awaiting response... 200 OK\n",
            "Length: 143812152 (137M) [application/zip]\n",
            "Saving to: ‘/tmp/train.zip’\n",
            "\n",
            "/tmp/train.zip      100%[===================>] 137.15M   186MB/s    in 0.7s    \n",
            "\n",
            "2021-12-14 20:23:08 (186 MB/s) - ‘/tmp/train.zip’ saved [143812152/143812152]\n",
            "\n",
            "--2021-12-14 20:23:09--  https://storage.googleapis.com/ibeans/validation.zip\n",
            "Resolving storage.googleapis.com (storage.googleapis.com)... 74.125.204.128, 108.177.125.128, 142.250.157.128, ...\n",
            "Connecting to storage.googleapis.com (storage.googleapis.com)|74.125.204.128|:443... connected.\n",
            "HTTP request sent, awaiting response... 200 OK\n",
            "Length: 18504213 (18M) [application/zip]\n",
            "Saving to: ‘/tmp/validation.zip’\n",
            "\n",
            "/tmp/validation.zip 100%[===================>]  17.65M  18.9MB/s    in 0.9s    \n",
            "\n",
            "2021-12-14 20:23:10 (18.9 MB/s) - ‘/tmp/validation.zip’ saved [18504213/18504213]\n",
            "\n",
            "--2021-12-14 20:23:10--  https://storage.googleapis.com/ibeans/test.zip\n",
            "Resolving storage.googleapis.com (storage.googleapis.com)... 74.125.204.128, 108.177.125.128, 142.250.157.128, ...\n",
            "Connecting to storage.googleapis.com (storage.googleapis.com)|74.125.204.128|:443... connected.\n",
            "HTTP request sent, awaiting response... 200 OK\n",
            "Length: 17708541 (17M) [application/zip]\n",
            "Saving to: ‘/tmp/test.zip’\n",
            "\n",
            "/tmp/test.zip       100%[===================>]  16.89M  --.-KB/s    in 0.1s    \n",
            "\n",
            "2021-12-14 20:23:11 (117 MB/s) - ‘/tmp/test.zip’ saved [17708541/17708541]\n",
            "\n"
          ]
        }
      ],
      "source": [
        "# Do not change this code\n",
        "!wget --no-check-certificate \\\n",
        "    https://storage.googleapis.com/ibeans/train.zip \\\n",
        "    -O /tmp/train.zip\n",
        "\n",
        "!wget --no-check-certificate \\\n",
        "    https://storage.googleapis.com/ibeans/validation.zip \\\n",
        "    -O /tmp/validation.zip\n",
        "\n",
        "!wget --no-check-certificate \\\n",
        "    https://storage.googleapis.com/ibeans/test.zip \\\n",
        "    -O /tmp/test.zip"
      ]
    },
    {
      "cell_type": "code",
      "execution_count": 3,
      "metadata": {
        "id": "KscpTrSWcK1T"
      },
      "outputs": [],
      "source": [
        "# Do not change this code\n",
        "import os\n",
        "import zipfile\n",
        "\n",
        "local_zip = '/tmp/train.zip'\n",
        "zip_ref = zipfile.ZipFile(local_zip, 'r')\n",
        "zip_ref.extractall('/tmp')\n",
        "local_zip = '/tmp/validation.zip'\n",
        "zip_ref = zipfile.ZipFile(local_zip, 'r')\n",
        "zip_ref.extractall('/tmp')\n",
        "local_zip = '/tmp/test.zip'\n",
        "zip_ref = zipfile.ZipFile(local_zip, 'r')\n",
        "zip_ref.extractall('/tmp/test')\n",
        "zip_ref.close()"
      ]
    },
    {
      "cell_type": "markdown",
      "metadata": {
        "id": "aPSP92lXvDkQ"
      },
      "source": [
        "Now you need to define a generator to process the data we have loaded in Colab so that our model can use it for training. As we showed in the previous video you'll first have to define an ```ImageDataGenerator``` and then flow the data into it.\n",
        "\n",
        "*A hint: You don't want abnormal data!*"
      ]
    },
    {
      "cell_type": "code",
      "execution_count": 8,
      "metadata": {
        "id": "jCiSd248caB4",
        "outputId": "9d605f09-5090-4f65-e396-42abe9da328a",
        "colab": {
          "base_uri": "https://localhost:8080/"
        }
      },
      "outputs": [
        {
          "output_type": "stream",
          "name": "stdout",
          "text": [
            "Found 1034 images belonging to 3 classes.\n",
            "Found 133 images belonging to 3 classes.\n"
          ]
        }
      ],
      "source": [
        "from tensorflow.keras.preprocessing.image import ImageDataGenerator\n",
        "\n",
        "train_datagen = ImageDataGenerator(\n",
        "      rescale=1./255,\n",
        "      rotation_range=20,\n",
        "      width_shift_range=0.2,\n",
        "      height_shift_range=0.2,\n",
        "      shear_range=0.2,\n",
        "      zoom_range=0.2,\n",
        "      horizontal_flip=True,\n",
        "      fill_mode='nearest'\n",
        ")\n",
        "\n",
        "validation_datagen = ImageDataGenerator(rescale=1./255)\n",
        "\n",
        "TRAIN_DIRECTORY_LOCATION = os.path.join('/tmp/train')\n",
        "VAL_DIRECTORY_LOCATION = os.path.join('/tmp/validation')\n",
        "TARGET_SIZE = (100, 100) # All images will be resized to 100x100\n",
        "CLASS_MODE = \"binary\" #output would be a number 0,1,2,3....N\n",
        "\n",
        "train_generator = train_datagen.flow_from_directory(\n",
        "    TRAIN_DIRECTORY_LOCATION,\n",
        "    target_size = TARGET_SIZE,  \n",
        "    batch_size = 128,\n",
        "    class_mode = CLASS_MODE\n",
        ")\n",
        "\n",
        "validation_generator = validation_datagen.flow_from_directory(\n",
        "    VAL_DIRECTORY_LOCATION,\n",
        "    target_size = TARGET_SIZE,  \n",
        "    batch_size = 128,\n",
        "    class_mode = CLASS_MODE\n",
        ")"
      ]
    },
    {
      "cell_type": "markdown",
      "metadata": {
        "id": "YlWSuRMEvDkX"
      },
      "source": [
        "Now its your turn to define a model to learn this data. \n",
        "\n",
        "*A hint: Like with the CIFAR-10 assignment, your model may want to learn some high level features and then classify them. This time it may help to make the model a little wider at times.*"
      ]
    },
    {
      "cell_type": "code",
      "execution_count": 9,
      "metadata": {
        "id": "vrJt6YSDcqjX",
        "outputId": "eee2a5a9-05c6-45f0-bd95-27e4738f2e9f",
        "colab": {
          "base_uri": "https://localhost:8080/"
        }
      },
      "outputs": [
        {
          "output_type": "stream",
          "name": "stdout",
          "text": [
            "Model: \"sequential_1\"\n",
            "_________________________________________________________________\n",
            " Layer (type)                Output Shape              Param #   \n",
            "=================================================================\n",
            " conv2d_4 (Conv2D)           (None, 98, 98, 32)        896       \n",
            "                                                                 \n",
            " max_pooling2d_4 (MaxPooling  (None, 49, 49, 32)       0         \n",
            " 2D)                                                             \n",
            "                                                                 \n",
            " conv2d_5 (Conv2D)           (None, 47, 47, 64)        18496     \n",
            "                                                                 \n",
            " max_pooling2d_5 (MaxPooling  (None, 23, 23, 64)       0         \n",
            " 2D)                                                             \n",
            "                                                                 \n",
            " conv2d_6 (Conv2D)           (None, 21, 21, 128)       73856     \n",
            "                                                                 \n",
            " max_pooling2d_6 (MaxPooling  (None, 10, 10, 128)      0         \n",
            " 2D)                                                             \n",
            "                                                                 \n",
            " conv2d_7 (Conv2D)           (None, 8, 8, 256)         295168    \n",
            "                                                                 \n",
            " max_pooling2d_7 (MaxPooling  (None, 4, 4, 256)        0         \n",
            " 2D)                                                             \n",
            "                                                                 \n",
            " flatten_1 (Flatten)         (None, 4096)              0         \n",
            "                                                                 \n",
            " dense_3 (Dense)             (None, 512)               2097664   \n",
            "                                                                 \n",
            " dense_4 (Dense)             (None, 256)               131328    \n",
            "                                                                 \n",
            " dense_5 (Dense)             (None, 3)                 771       \n",
            "                                                                 \n",
            "=================================================================\n",
            "Total params: 2,618,179\n",
            "Trainable params: 2,618,179\n",
            "Non-trainable params: 0\n",
            "_________________________________________________________________\n"
          ]
        }
      ],
      "source": [
        "import tensorflow as tf\n",
        "model = tf.keras.models.Sequential([\n",
        "    # Note the input shape is the desired size of the image with 3 bytes color\n",
        "    # This is the first convolution\n",
        "    tf.keras.layers.Conv2D(32, (3,3), activation='relu', input_shape=(100, 100, 3)),\n",
        "    tf.keras.layers.MaxPooling2D(2, 2),\n",
        "    # The second convolution\n",
        "    tf.keras.layers.Conv2D(64, (3,3), activation='relu'),\n",
        "    tf.keras.layers.MaxPooling2D(2,2),\n",
        "    # The third convolution\n",
        "    tf.keras.layers.Conv2D(128, (3,3), activation='relu'),\n",
        "    tf.keras.layers.MaxPooling2D(2,2),\n",
        "    # The fourth convolution\n",
        "    tf.keras.layers.Conv2D(256, (3,3), activation='relu'),\n",
        "    tf.keras.layers.MaxPooling2D(2,2),\n",
        "    # Flatten the results to feed into a DNN\n",
        "    tf.keras.layers.Flatten(),\n",
        "    # 512 neuron hidden layer\n",
        "    tf.keras.layers.Dense(512, activation='relu'),\n",
        "    tf.keras.layers.Dense(256, activation='relu'),\n",
        "    # 3 outputs neuron. It will contain a value from 0-2 for the classes: healthy, bean_rust and angular_leaf_spot\n",
        "    tf.keras.layers.Dense(3, activation='softmax')\n",
        "])\n",
        "\n",
        "# This will print a summary of your model when you're done!\n",
        "model.summary()"
      ]
    },
    {
      "cell_type": "markdown",
      "metadata": {
        "id": "7x4RigvcvDkd"
      },
      "source": [
        "Then you'll need to pick an appropriate loss function and optimizer.\n",
        "\n",
        "*A hint: remember we are classifying again.*"
      ]
    },
    {
      "cell_type": "code",
      "execution_count": 12,
      "metadata": {
        "id": "nST6CyvCcy-2"
      },
      "outputs": [],
      "source": [
        "LOSS_FUNCTION = 'sparse_categorical_crossentropy'\n",
        "OPTIMIZER = 'adam'\n",
        "\n",
        "model.compile(\n",
        "    loss = LOSS_FUNCTION,\n",
        "    optimizer = OPTIMIZER,\n",
        "    metrics = ['accuracy']\n",
        ")"
      ]
    },
    {
      "cell_type": "markdown",
      "metadata": {
        "id": "kRkCMV9UvDkj"
      },
      "source": [
        "Finally select the number of epochs you'd like to train for and train your model!\n",
        "\n",
        "*A hint: something in the low tens is a good place to start*"
      ]
    },
    {
      "cell_type": "code",
      "execution_count": 14,
      "metadata": {
        "id": "Q3iK9LX9deu2",
        "outputId": "8b93e465-928d-4727-960b-98804ab2c1d7",
        "colab": {
          "base_uri": "https://localhost:8080/",
          "height": 1000
        }
      },
      "outputs": [
        {
          "output_type": "stream",
          "name": "stdout",
          "text": [
            "Epoch 1/50\n",
            "9/9 [==============================] - 10s 1s/step - loss: 0.7926 - accuracy: 0.6199 - val_loss: 0.7940 - val_accuracy: 0.5865\n",
            "Epoch 2/50\n",
            "9/9 [==============================] - 9s 1s/step - loss: 0.7137 - accuracy: 0.6731 - val_loss: 1.0115 - val_accuracy: 0.5714\n",
            "Epoch 3/50\n",
            "9/9 [==============================] - 9s 1s/step - loss: 0.6591 - accuracy: 0.7137 - val_loss: 0.7077 - val_accuracy: 0.6767\n",
            "Epoch 4/50\n",
            "9/9 [==============================] - 9s 1s/step - loss: 0.6496 - accuracy: 0.7263 - val_loss: 0.6367 - val_accuracy: 0.7068\n",
            "Epoch 5/50\n",
            "9/9 [==============================] - 9s 1s/step - loss: 0.6146 - accuracy: 0.7408 - val_loss: 1.1089 - val_accuracy: 0.6241\n",
            "Epoch 6/50\n",
            "9/9 [==============================] - 9s 1s/step - loss: 0.6240 - accuracy: 0.7360 - val_loss: 0.5981 - val_accuracy: 0.7218\n",
            "Epoch 7/50\n",
            "9/9 [==============================] - 9s 1s/step - loss: 0.6425 - accuracy: 0.7118 - val_loss: 1.1833 - val_accuracy: 0.5940\n",
            "Epoch 8/50\n",
            "9/9 [==============================] - 9s 1s/step - loss: 0.5675 - accuracy: 0.7466 - val_loss: 0.7165 - val_accuracy: 0.6917\n",
            "Epoch 9/50\n",
            "9/9 [==============================] - 9s 1s/step - loss: 0.5705 - accuracy: 0.7621 - val_loss: 1.1415 - val_accuracy: 0.6090\n",
            "Epoch 10/50\n",
            "9/9 [==============================] - 10s 1s/step - loss: 0.5742 - accuracy: 0.7592 - val_loss: 0.8190 - val_accuracy: 0.6767\n",
            "Epoch 11/50\n",
            "9/9 [==============================] - 9s 1s/step - loss: 0.5550 - accuracy: 0.7631 - val_loss: 0.4955 - val_accuracy: 0.8120\n",
            "Epoch 12/50\n",
            "9/9 [==============================] - 9s 1s/step - loss: 0.5507 - accuracy: 0.7611 - val_loss: 0.6379 - val_accuracy: 0.7594\n",
            "Epoch 13/50\n",
            "9/9 [==============================] - 9s 1s/step - loss: 0.5566 - accuracy: 0.7727 - val_loss: 0.9773 - val_accuracy: 0.6692\n",
            "Epoch 14/50\n",
            "9/9 [==============================] - 9s 1s/step - loss: 0.5945 - accuracy: 0.7350 - val_loss: 0.6896 - val_accuracy: 0.6992\n",
            "Epoch 15/50\n",
            "9/9 [==============================] - 9s 1s/step - loss: 0.6154 - accuracy: 0.7437 - val_loss: 0.6085 - val_accuracy: 0.6992\n",
            "Epoch 16/50\n",
            "9/9 [==============================] - 9s 1s/step - loss: 0.5592 - accuracy: 0.7563 - val_loss: 0.5555 - val_accuracy: 0.7293\n",
            "Epoch 17/50\n",
            "9/9 [==============================] - 9s 1s/step - loss: 0.4985 - accuracy: 0.7911 - val_loss: 0.4444 - val_accuracy: 0.8045\n",
            "Epoch 18/50\n",
            "9/9 [==============================] - 9s 1s/step - loss: 0.5471 - accuracy: 0.7631 - val_loss: 0.4867 - val_accuracy: 0.7970\n",
            "Epoch 19/50\n",
            "9/9 [==============================] - 9s 1s/step - loss: 0.5503 - accuracy: 0.7747 - val_loss: 0.5373 - val_accuracy: 0.7669\n",
            "Epoch 20/50\n",
            "9/9 [==============================] - 9s 1s/step - loss: 0.5589 - accuracy: 0.7669 - val_loss: 0.8298 - val_accuracy: 0.6541\n",
            "Epoch 21/50\n",
            "9/9 [==============================] - 9s 1s/step - loss: 0.5192 - accuracy: 0.7727 - val_loss: 0.6484 - val_accuracy: 0.7068\n",
            "Epoch 22/50\n",
            "9/9 [==============================] - 9s 1s/step - loss: 0.4756 - accuracy: 0.7921 - val_loss: 0.4192 - val_accuracy: 0.8120\n",
            "Epoch 23/50\n",
            "9/9 [==============================] - 9s 1s/step - loss: 0.4860 - accuracy: 0.7872 - val_loss: 0.6012 - val_accuracy: 0.7218\n",
            "Epoch 24/50\n",
            "9/9 [==============================] - 9s 1s/step - loss: 0.4736 - accuracy: 0.7940 - val_loss: 0.7225 - val_accuracy: 0.7143\n",
            "Epoch 25/50\n",
            "9/9 [==============================] - 9s 1s/step - loss: 0.5630 - accuracy: 0.7640 - val_loss: 1.1069 - val_accuracy: 0.5639\n",
            "Epoch 26/50\n",
            "9/9 [==============================] - 9s 1s/step - loss: 0.5966 - accuracy: 0.7427 - val_loss: 0.6945 - val_accuracy: 0.6842\n",
            "Epoch 27/50\n",
            "9/9 [==============================] - 9s 1s/step - loss: 0.5390 - accuracy: 0.7708 - val_loss: 0.5515 - val_accuracy: 0.7669\n",
            "Epoch 28/50\n",
            "9/9 [==============================] - 9s 1s/step - loss: 0.4873 - accuracy: 0.7853 - val_loss: 0.4682 - val_accuracy: 0.7820\n",
            "Epoch 29/50\n",
            "9/9 [==============================] - 9s 1s/step - loss: 0.4937 - accuracy: 0.7882 - val_loss: 0.6286 - val_accuracy: 0.7218\n",
            "Epoch 30/50\n",
            "9/9 [==============================] - 9s 1s/step - loss: 0.4726 - accuracy: 0.7911 - val_loss: 0.5274 - val_accuracy: 0.7669\n",
            "Epoch 31/50\n",
            "9/9 [==============================] - 9s 1s/step - loss: 0.4457 - accuracy: 0.8114 - val_loss: 0.5725 - val_accuracy: 0.7519\n",
            "Epoch 32/50\n",
            "9/9 [==============================] - 9s 1s/step - loss: 0.4436 - accuracy: 0.8037 - val_loss: 0.9728 - val_accuracy: 0.7068\n",
            "Epoch 33/50\n",
            "9/9 [==============================] - 9s 1s/step - loss: 0.4465 - accuracy: 0.8104 - val_loss: 0.7241 - val_accuracy: 0.7068\n",
            "Epoch 34/50\n",
            "9/9 [==============================] - 9s 1s/step - loss: 0.4401 - accuracy: 0.8085 - val_loss: 0.4981 - val_accuracy: 0.7744\n",
            "Epoch 35/50\n",
            "9/9 [==============================] - 9s 1s/step - loss: 0.3897 - accuracy: 0.8269 - val_loss: 0.5042 - val_accuracy: 0.7895\n",
            "Epoch 36/50\n",
            "9/9 [==============================] - 9s 1s/step - loss: 0.3891 - accuracy: 0.8356 - val_loss: 0.4768 - val_accuracy: 0.8647\n",
            "Epoch 37/50\n",
            "9/9 [==============================] - 9s 1s/step - loss: 0.3910 - accuracy: 0.8356 - val_loss: 0.5978 - val_accuracy: 0.8045\n",
            "Epoch 38/50\n",
            "9/9 [==============================] - 9s 1s/step - loss: 0.4020 - accuracy: 0.8414 - val_loss: 0.4688 - val_accuracy: 0.8496\n",
            "Epoch 39/50\n",
            "9/9 [==============================] - 9s 1s/step - loss: 0.4080 - accuracy: 0.8298 - val_loss: 0.6540 - val_accuracy: 0.7895\n",
            "Epoch 40/50\n",
            "9/9 [==============================] - 9s 1s/step - loss: 0.3800 - accuracy: 0.8472 - val_loss: 0.3905 - val_accuracy: 0.8346\n",
            "Epoch 41/50\n",
            "9/9 [==============================] - 9s 1s/step - loss: 0.3529 - accuracy: 0.8530 - val_loss: 0.4806 - val_accuracy: 0.8571\n",
            "Epoch 42/50\n",
            "9/9 [==============================] - 9s 1s/step - loss: 0.3532 - accuracy: 0.8598 - val_loss: 0.5619 - val_accuracy: 0.7970\n",
            "Epoch 43/50\n",
            "9/9 [==============================] - 9s 995ms/step - loss: 0.3751 - accuracy: 0.8375 - val_loss: 0.3162 - val_accuracy: 0.8647\n",
            "Epoch 44/50\n",
            "9/9 [==============================] - 9s 1s/step - loss: 0.3763 - accuracy: 0.8453 - val_loss: 0.4772 - val_accuracy: 0.8571\n",
            "Epoch 45/50\n",
            "9/9 [==============================] - 9s 1s/step - loss: 0.4238 - accuracy: 0.8327 - val_loss: 0.9788 - val_accuracy: 0.6842\n",
            "Epoch 46/50\n",
            "9/9 [==============================] - 9s 1s/step - loss: 0.4065 - accuracy: 0.8162 - val_loss: 0.5214 - val_accuracy: 0.8120\n",
            "Epoch 47/50\n",
            "9/9 [==============================] - 9s 1s/step - loss: 0.4002 - accuracy: 0.8443 - val_loss: 0.6117 - val_accuracy: 0.8120\n",
            "Epoch 48/50\n",
            "9/9 [==============================] - 9s 1s/step - loss: 0.3599 - accuracy: 0.8472 - val_loss: 0.6032 - val_accuracy: 0.7895\n",
            "Epoch 49/50\n",
            "9/9 [==============================] - 9s 1s/step - loss: 0.3374 - accuracy: 0.8636 - val_loss: 0.4840 - val_accuracy: 0.8271\n",
            "Epoch 50/50\n",
            "9/9 [==============================] - 9s 1s/step - loss: 0.3043 - accuracy: 0.8704 - val_loss: 0.5867 - val_accuracy: 0.7744\n"
          ]
        },
        {
          "output_type": "display_data",
          "data": {
            "image/png": "[encoded data removed]",
            "text/plain": [
              "<Figure size 432x288 with 1 Axes>"
            ]
          },
          "metadata": {
            "needs_background": "light"
          }
        }
      ],
      "source": [
        "NUM_EPOCHS = 50\n",
        "\n",
        "history = model.fit(\n",
        "      train_generator, \n",
        "      epochs = NUM_EPOCHS,\n",
        "      verbose = 1,\n",
        "      validation_data = validation_generator)\n",
        "\n",
        "# summarize history for accuracy\n",
        "import matplotlib.pyplot as plt\n",
        "plt.plot(history.history['accuracy'])\n",
        "plt.plot(history.history['val_accuracy'])\n",
        "plt.title('model accuracy')\n",
        "plt.ylabel('accuracy')\n",
        "plt.xlabel('epoch')\n",
        "plt.legend(['train', 'test'], loc='upper left')\n",
        "plt.xlim([0,NUM_EPOCHS])\n",
        "plt.ylim([0.4,1.0])\n",
        "plt.show()"
      ]
    },
    {
      "cell_type": "code",
      "source": [
        ""
      ],
      "metadata": {
        "id": "G3Cl2uTFrh0U"
      },
      "execution_count": null,
      "outputs": []
    }
  ],
  "metadata": {
    "accelerator": "GPU",
    "colab": {
      "name": "2-4-11-Question.ipynb",
      "provenance": [],
      "include_colab_link": true
    },
    "kernelspec": {
      "display_name": "Python 3",
      "language": "python",
      "name": "python3"
    },
    "language_info": {
      "codemirror_mode": {
        "name": "ipython",
        "version": 3
      },
      "file_extension": ".py",
      "mimetype": "text/x-python",
      "name": "python",
      "nbconvert_exporter": "python",
      "pygments_lexer": "ipython3",
      "version": "3.6.9"
    }
  },
  "nbformat": 4,
  "nbformat_minor": 0
}