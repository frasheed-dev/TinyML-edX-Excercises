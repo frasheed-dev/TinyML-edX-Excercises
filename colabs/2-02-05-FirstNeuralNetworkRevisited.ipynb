{
  "nbformat": 4,
  "nbformat_minor": 0,
  "metadata": {
    "colab": {
      "name": "FirstNeuralNetwork-revisited.ipynb",
      "provenance": [],
      "include_colab_link": true
    },
    "kernelspec": {
      "display_name": "Python 3",
      "language": "python",
      "name": "python3"
    },
    "language_info": {
      "codemirror_mode": {
        "name": "ipython",
        "version": 3
      },
      "file_extension": ".py",
      "mimetype": "text/x-python",
      "name": "python",
      "nbconvert_exporter": "python",
      "pygments_lexer": "ipython3",
      "version": "3.6.9"
    }
  },
  "cells": [
    {
      "cell_type": "markdown",
      "metadata": {
        "id": "view-in-github",
        "colab_type": "text"
      },
      "source": [
        "<a href=\"https://colab.research.google.com/github/frasheed-dev/edx_TinyML_specialization/blob/master/colabs/2-02-05-FirstNeuralNetworkRevisited.ipynb\" target=\"_parent\"><img src=\"https://colab.research.google.com/assets/colab-badge.svg\" alt=\"Open In Colab\"/></a>"
      ]
    },
    {
      "cell_type": "code",
      "metadata": {
        "id": "QCm3x_4F8bvg"
      },
      "source": [
        "import tensorflow as tf\n",
        "import numpy as np\n",
        "from tensorflow import keras"
      ],
      "execution_count": 1,
      "outputs": []
    },
    {
      "cell_type": "markdown",
      "metadata": {
        "id": "dVnP2PBWrPu8"
      },
      "source": [
        "#### First lets re-train our original single layer network and see what the prediction is for X = 10.0 and what the learned weights are."
      ]
    },
    {
      "cell_type": "code",
      "metadata": {
        "colab": {
          "base_uri": "https://localhost:8080/"
        },
        "id": "CLqOZPfC8gfb",
        "outputId": "99731247-7689-47d7-f147-305c52f39456"
      },
      "source": [
        "my_layer = keras.layers.Dense(units=1, input_shape=[1])\n",
        "model = tf.keras.Sequential([my_layer])\n",
        "model.compile(optimizer='sgd', loss='mean_squared_error')\n",
        "\n",
        "xs = np.array([-1.0,  0.0, 1.0, 2.0, 3.0, 4.0], dtype=float)\n",
        "ys = np.array([-3.0, -1.0, 1.0, 3.0, 5.0, 7.0], dtype=float)\n",
        "\n",
        "model.fit(xs, ys, epochs=500, verbose=0) #verbose to enable/disable output log"
      ],
      "execution_count": 22,
      "outputs": [
        {
          "output_type": "execute_result",
          "data": {
            "text/plain": [
              "<keras.callbacks.History at 0x7f2da55f7150>"
            ]
          },
          "metadata": {},
          "execution_count": 22
        }
      ]
    },
    {
      "cell_type": "code",
      "metadata": {
        "colab": {
          "base_uri": "https://localhost:8080/"
        },
        "id": "qtu5rJBA8o9M",
        "outputId": "3a6f235b-629f-443d-aa63-41fe41b9b61f"
      },
      "source": [
        "X=10.0\n",
        "print(\"For X=%f predicted value of Y=%f\" %(X, model.predict([10.0])))"
      ],
      "execution_count": 14,
      "outputs": [
        {
          "output_type": "stream",
          "name": "stdout",
          "text": [
            "For X=10.000000 predicted value of Y=18.999996\n"
          ]
        }
      ]
    },
    {
      "cell_type": "code",
      "metadata": {
        "colab": {
          "base_uri": "https://localhost:8080/"
        },
        "id": "adfeHPyVu5Ib",
        "outputId": "24c04f6a-2555-4477-f9c5-289a125d129c"
      },
      "source": [
        "print(my_layer.get_weights())"
      ],
      "execution_count": 4,
      "outputs": [
        {
          "output_type": "stream",
          "name": "stdout",
          "text": [
            "[array([[1.9976271]], dtype=float32), array([-0.9926431], dtype=float32)]\n"
          ]
        }
      ]
    },
    {
      "cell_type": "markdown",
      "metadata": {
        "id": "IjXlGyjFrPvS"
      },
      "source": [
        "#### Next lets train a 2-layer network and see what its prediction and weights are."
      ]
    },
    {
      "cell_type": "code",
      "metadata": {
        "colab": {
          "base_uri": "https://localhost:8080/"
        },
        "id": "HT2ajN1fvAzJ",
        "outputId": "6ad067c7-ee97-4574-a9d1-9573dfdf6810"
      },
      "source": [
        "#layer 1 with 2 neurons (units)\n",
        "my_layer_1 = keras.layers.Dense(units=2, input_shape=[1])\n",
        "\n",
        "#layer 2 with 1 neuron (units)\n",
        "my_layer_2 = keras.layers.Dense(units=1)\n",
        "model = tf.keras.Sequential([my_layer_1, my_layer_2])\n",
        "model.compile(optimizer='sgd', loss='mean_squared_error')\n",
        "\n",
        "xs = np.array([-1.0,  0.0, 1.0, 2.0, 3.0, 4.0], dtype=float)\n",
        "ys = np.array([-3.0, -1.0, 1.0, 3.0, 5.0, 7.0], dtype=float)\n",
        "\n",
        "model.fit(xs, ys, epochs=500, verbose=0) #verbose to enable/disable output log "
      ],
      "execution_count": 21,
      "outputs": [
        {
          "output_type": "execute_result",
          "data": {
            "text/plain": [
              "<keras.callbacks.History at 0x7f2da5f7b810>"
            ]
          },
          "metadata": {},
          "execution_count": 21
        }
      ]
    },
    {
      "cell_type": "code",
      "metadata": {
        "colab": {
          "base_uri": "https://localhost:8080/"
        },
        "id": "caJ7xfgPvRnV",
        "outputId": "4dd15108-ea92-4174-c0fc-8406d16473b2"
      },
      "source": [
        "X=10.0\n",
        "print(\"For X=%f predicted value of Y=%f\" %(X, model.predict([10.0])))"
      ],
      "execution_count": 15,
      "outputs": [
        {
          "output_type": "stream",
          "name": "stdout",
          "text": [
            "For X=10.000000 predicted value of Y=18.999996\n"
          ]
        }
      ]
    },
    {
      "cell_type": "code",
      "metadata": {
        "colab": {
          "base_uri": "https://localhost:8080/"
        },
        "id": "IfiM8J9RvUys",
        "outputId": "21cbf6ca-4edc-4105-c9ce-5f28def0ae95"
      },
      "source": [
        "print(my_layer_1.get_weights())\n",
        "print(my_layer_2.get_weights())"
      ],
      "execution_count": 16,
      "outputs": [
        {
          "output_type": "stream",
          "name": "stdout",
          "text": [
            "[array([[-0.8507698, -1.0238868]], dtype=float32), array([0.34332368, 0.3420652 ], dtype=float32)]\n",
            "[array([[-1.1916916],\n",
            "       [-0.9631378]], dtype=float32), array([-0.26140663], dtype=float32)]\n"
          ]
        }
      ]
    },
    {
      "cell_type": "markdown",
      "metadata": {
        "id": "zCztUpv4rPvj"
      },
      "source": [
        "#### Finally we can manually compute the output for our 2-layer network to better understand how it works."
      ]
    },
    {
      "cell_type": "code",
      "metadata": {
        "colab": {
          "base_uri": "https://localhost:8080/"
        },
        "id": "snvWM5NRvgg9",
        "outputId": "00e97ece-17c5-4dd4-e771-d9dbebe8f0e0"
      },
      "source": [
        "value_to_predict = 10.0\n",
        "\n",
        "#first layer with 2 neurons + 2 biases\n",
        "layer1_w1 = (my_layer_1.get_weights()[0][0][0])\n",
        "layer1_w2 = (my_layer_1.get_weights()[0][0][1])\n",
        "layer1_b1 = (my_layer_1.get_weights()[1][0])\n",
        "layer1_b2 = (my_layer_1.get_weights()[1][1])\n",
        "\n",
        "#second layer with 1 neuron (getting inputs from 2 neurons in the previous layer) + 1 bias\n",
        "layer2_w1 = (my_layer_2.get_weights()[0][0])\n",
        "layer2_w2 = (my_layer_2.get_weights()[0][1])\n",
        "layer2_b = (my_layer_2.get_weights()[1][0])\n",
        "\n",
        "#summing neurons output\n",
        "#layer1\n",
        "neuron1_output = (layer1_w1 * value_to_predict) + layer1_b1\n",
        "neuron2_output = (layer1_w2 * value_to_predict) + layer1_b2\n",
        "#layer2\n",
        "neuron3_output = (layer2_w1 * neuron1_output) + (layer2_w2 * neuron2_output) + layer2_b\n",
        "\n",
        "print(\"For X=%f predicted value of Y=%f\" %(value_to_predict, neuron3_output))"
      ],
      "execution_count": 26,
      "outputs": [
        {
          "output_type": "stream",
          "name": "stdout",
          "text": [
            "For X=10.000000 predicted value of Y=18.999992\n"
          ]
        }
      ]
    },
    {
      "cell_type": "code",
      "metadata": {
        "id": "BYuTC8Ta3zYS"
      },
      "source": [
        ""
      ],
      "execution_count": null,
      "outputs": []
    }
  ]
}